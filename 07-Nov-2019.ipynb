{
 "cells": [
  {
   "cell_type": "code",
   "execution_count": 11,
   "metadata": {},
   "outputs": [
    {
     "data": {
      "text/plain": [
       "False"
      ]
     },
     "execution_count": 11,
     "metadata": {},
     "output_type": "execute_result"
    }
   ],
   "source": [
    "# Special Numbers\n",
    "# 4   0\n",
    "# 5   0\n",
    "# 6   0\n",
    "# 7   0\n",
    "# 8   0\n",
    "# sum of any two distinct single digit odd prime number \n",
    "# with each of the prime number having a positive power\n",
    "# 3 5 7\n",
    "# 8 -> 3^1 + 5^1\n",
    "\n",
    "# 7 -> \n",
    "\n",
    "# 9 -> \n",
    "\n",
    "# 10 -> 3 + 7\n",
    "\n",
    "# 12 -> 5+7\n",
    "\n",
    "# 14 -> 3^2 + 5^1\n",
    "\n",
    "# 16 -> 3^2 + 7^1\n",
    "\n",
    "# 28 -> 5^2 + 7^1\n",
    "\n",
    "# 32 -> 5^2 + 7^1 , 3^3 + 5^1\n",
    "\n",
    "# 34 -> 3^2 + 5^2 , 3^3 + 7^1\n",
    "\n",
    "\n",
    "def specialNumbercheck(n):\n",
    "    list3 = []\n",
    "    list5 = []\n",
    "    list7 = []\n",
    "    fp = 10\n",
    "    for i in range(1,11):\n",
    "        list3.append(3 ** i)\n",
    "        list5.append(5 ** i)\n",
    "        list7.append(7 ** i)\n",
    "    for i in range(10):\n",
    "        for j in range(10):\n",
    "            if list3[i] + list5[j] == n or list3[i] + list7[j] == n:\n",
    "                return True\n",
    "    for i in range(10):\n",
    "        for j in range(10):\n",
    "            if list5[i]+list7[j] == n:\n",
    "                return True\n",
    "    return False\n",
    "specialNumbercheck(3)\n",
    "                \n",
    "        \n",
    "    \n",
    "\n"
   ]
  },
  {
   "cell_type": "code",
   "execution_count": 35,
   "metadata": {},
   "outputs": [
    {
     "name": "stdout",
     "output_type": "stream",
     "text": [
      "4\n",
      "8\n",
      "8\n",
      "count 2\n"
     ]
    }
   ],
   "source": [
    "#Convert a number to a special number by adding 1\n",
    "def nextSpecialNumber(n):\n",
    "    count = 1\n",
    "    if specialNumbercheck(n) != True:\n",
    "        n = n+1\n",
    "        count+=1\n",
    "        nextSpecialNumber(n)\n",
    "        if specialNumbercheck(n) == True:\n",
    "            print(n)\n",
    "            print(\"count\",count)\n",
    "    else:\n",
    "        print(n)\n",
    "n = int(input())\n",
    "nextSpecialNumber(n)\n",
    "    "
   ]
  },
  {
   "cell_type": "code",
   "execution_count": 39,
   "metadata": {},
   "outputs": [
    {
     "name": "stdout",
     "output_type": "stream",
     "text": [
      "11\n",
      "10\n",
      "10\n",
      "count 2\n"
     ]
    }
   ],
   "source": [
    "# Converting a number to a special number by substracting 1's\n",
    "def previousSpecialNumber(n):\n",
    "    count = 1\n",
    "    if specialNumbercheck(n) != True:\n",
    "        n = n-1\n",
    "        count+=1\n",
    "        previousSpecialNumber(n)\n",
    "        if specialNumbercheck(n) == True:\n",
    "            print(n)\n",
    "            print(\"count\",count)\n",
    "    else:\n",
    "        print(n)\n",
    "n = int(input())\n",
    "previousSpecialNumber(n)\n",
    "    "
   ]
  },
  {
   "cell_type": "code",
   "execution_count": 40,
   "metadata": {},
   "outputs": [
    {
     "name": "stdout",
     "output_type": "stream",
     "text": [
      "1\n",
      "4\n",
      "7\n",
      "8\n"
     ]
    },
    {
     "ename": "RecursionError",
     "evalue": "maximum recursion depth exceeded in comparison",
     "output_type": "error",
     "traceback": [
      "\u001b[1;31m---------------------------------------------------------------------------\u001b[0m",
      "\u001b[1;31mRecursionError\u001b[0m                            Traceback (most recent call last)",
      "\u001b[1;32m<ipython-input-40-d8b7f6203a62>\u001b[0m in \u001b[0;36m<module>\u001b[1;34m\u001b[0m\n\u001b[0;32m     43\u001b[0m     \u001b[0misSpecialNumber\u001b[0m\u001b[1;33m(\u001b[0m\u001b[0mn\u001b[0m\u001b[1;33m)\u001b[0m\u001b[1;33m\u001b[0m\u001b[1;33m\u001b[0m\u001b[0m\n\u001b[0;32m     44\u001b[0m     \u001b[0ma\u001b[0m \u001b[1;33m=\u001b[0m \u001b[0mnextSpecialNumber\u001b[0m\u001b[1;33m(\u001b[0m\u001b[0mn\u001b[0m\u001b[1;33m,\u001b[0m\u001b[0mdc\u001b[0m\u001b[1;33m,\u001b[0m\u001b[0mic\u001b[0m\u001b[1;33m,\u001b[0m\u001b[0mc\u001b[0m\u001b[1;33m)\u001b[0m\u001b[1;33m\u001b[0m\u001b[1;33m\u001b[0m\u001b[0m\n\u001b[1;32m---> 45\u001b[1;33m     \u001b[0mb\u001b[0m \u001b[1;33m=\u001b[0m \u001b[0mprevSpecialNumber\u001b[0m\u001b[1;33m(\u001b[0m\u001b[0mn\u001b[0m\u001b[1;33m,\u001b[0m\u001b[0mdc\u001b[0m\u001b[1;33m,\u001b[0m\u001b[0mic\u001b[0m\u001b[1;33m,\u001b[0m\u001b[0mc\u001b[0m\u001b[1;33m)\u001b[0m\u001b[1;33m\u001b[0m\u001b[1;33m\u001b[0m\u001b[0m\n\u001b[0m\u001b[0;32m     46\u001b[0m \u001b[1;32mif\u001b[0m \u001b[0ma\u001b[0m \u001b[1;33m<\u001b[0m \u001b[0mb\u001b[0m\u001b[1;33m:\u001b[0m\u001b[1;33m\u001b[0m\u001b[1;33m\u001b[0m\u001b[0m\n\u001b[0;32m     47\u001b[0m     \u001b[0mprint\u001b[0m\u001b[1;33m(\u001b[0m\u001b[0ma\u001b[0m\u001b[1;33m)\u001b[0m\u001b[1;33m\u001b[0m\u001b[1;33m\u001b[0m\u001b[0m\n",
      "\u001b[1;32m<ipython-input-40-d8b7f6203a62>\u001b[0m in \u001b[0;36mprevSpecialNumber\u001b[1;34m(n, dc, ic, c)\u001b[0m\n\u001b[0;32m     33\u001b[0m         \u001b[0mn\u001b[0m \u001b[1;33m=\u001b[0m \u001b[0mn\u001b[0m\u001b[1;33m-\u001b[0m\u001b[1;36m1\u001b[0m\u001b[1;33m\u001b[0m\u001b[1;33m\u001b[0m\u001b[0m\n\u001b[0;32m     34\u001b[0m         \u001b[0mc\u001b[0m \u001b[1;33m+=\u001b[0m \u001b[1;36m1\u001b[0m\u001b[1;33m\u001b[0m\u001b[1;33m\u001b[0m\u001b[0m\n\u001b[1;32m---> 35\u001b[1;33m         \u001b[0mprevSpecialNumber\u001b[0m\u001b[1;33m(\u001b[0m\u001b[0mn\u001b[0m\u001b[1;33m,\u001b[0m\u001b[0mdc\u001b[0m\u001b[1;33m,\u001b[0m\u001b[0mic\u001b[0m\u001b[1;33m,\u001b[0m\u001b[0mc\u001b[0m\u001b[1;33m)\u001b[0m\u001b[1;33m\u001b[0m\u001b[1;33m\u001b[0m\u001b[0m\n\u001b[0m\u001b[0;32m     36\u001b[0m     \u001b[1;32mreturn\u001b[0m \u001b[0mc\u001b[0m\u001b[1;33m*\u001b[0m\u001b[0mdc\u001b[0m\u001b[1;33m\u001b[0m\u001b[1;33m\u001b[0m\u001b[0m\n\u001b[0;32m     37\u001b[0m \u001b[0mt\u001b[0m \u001b[1;33m=\u001b[0m \u001b[0mint\u001b[0m\u001b[1;33m(\u001b[0m\u001b[0minput\u001b[0m\u001b[1;33m(\u001b[0m\u001b[1;33m)\u001b[0m\u001b[1;33m)\u001b[0m\u001b[1;33m\u001b[0m\u001b[1;33m\u001b[0m\u001b[0m\n",
      "... last 1 frames repeated, from the frame below ...\n",
      "\u001b[1;32m<ipython-input-40-d8b7f6203a62>\u001b[0m in \u001b[0;36mprevSpecialNumber\u001b[1;34m(n, dc, ic, c)\u001b[0m\n\u001b[0;32m     33\u001b[0m         \u001b[0mn\u001b[0m \u001b[1;33m=\u001b[0m \u001b[0mn\u001b[0m\u001b[1;33m-\u001b[0m\u001b[1;36m1\u001b[0m\u001b[1;33m\u001b[0m\u001b[1;33m\u001b[0m\u001b[0m\n\u001b[0;32m     34\u001b[0m         \u001b[0mc\u001b[0m \u001b[1;33m+=\u001b[0m \u001b[1;36m1\u001b[0m\u001b[1;33m\u001b[0m\u001b[1;33m\u001b[0m\u001b[0m\n\u001b[1;32m---> 35\u001b[1;33m         \u001b[0mprevSpecialNumber\u001b[0m\u001b[1;33m(\u001b[0m\u001b[0mn\u001b[0m\u001b[1;33m,\u001b[0m\u001b[0mdc\u001b[0m\u001b[1;33m,\u001b[0m\u001b[0mic\u001b[0m\u001b[1;33m,\u001b[0m\u001b[0mc\u001b[0m\u001b[1;33m)\u001b[0m\u001b[1;33m\u001b[0m\u001b[1;33m\u001b[0m\u001b[0m\n\u001b[0m\u001b[0;32m     36\u001b[0m     \u001b[1;32mreturn\u001b[0m \u001b[0mc\u001b[0m\u001b[1;33m*\u001b[0m\u001b[0mdc\u001b[0m\u001b[1;33m\u001b[0m\u001b[1;33m\u001b[0m\u001b[0m\n\u001b[0;32m     37\u001b[0m \u001b[0mt\u001b[0m \u001b[1;33m=\u001b[0m \u001b[0mint\u001b[0m\u001b[1;33m(\u001b[0m\u001b[0minput\u001b[0m\u001b[1;33m(\u001b[0m\u001b[1;33m)\u001b[0m\u001b[1;33m)\u001b[0m\u001b[1;33m\u001b[0m\u001b[1;33m\u001b[0m\u001b[0m\n",
      "\u001b[1;31mRecursionError\u001b[0m: maximum recursion depth exceeded in comparison"
     ]
    }
   ],
   "source": [
    "'''\n",
    "# Sample code to perform I/O:\n",
    "\n",
    "name = input()                  # Reading input from STDIN\n",
    "print('Hi, %s.' % name)         # Writing output to STDOUT\n",
    "\n",
    "# Warning: Printing unwanted or ill-formatted data to output will cause the test cases to fail\n",
    "'''\n",
    "\n",
    "# Write your code here\n",
    "def isSpecialNumber(n):\n",
    "    list3 = []\n",
    "    list5 = []\n",
    "    list7 = []\n",
    "    for i in range(1,11):\n",
    "        list3.append(3**i)\n",
    "        list5.append(5**i)\n",
    "        list7.append(7**i)\n",
    "    for i in range(10):\n",
    "        for j in range(10):\n",
    "            if list3[i]+list5[j] == n or list3[i]+list7[j] == n or list5[i]+list7[j] == n:\n",
    "                return True\n",
    "    return False\n",
    "def nextSpecialNumber(n,dc,ic,c):\n",
    "    if isSpecialNumber(n)!=True:\n",
    "        n = n+1\n",
    "        c+=1\n",
    "        nextSpecialNumber(n,dc,ic,c)\n",
    "    return c*ic\n",
    "\n",
    "def prevSpecialNumber(n,dc,ic,c):\n",
    "    if isSpecialNumber(n)!=True:\n",
    "        n = n-1\n",
    "        c += 1\n",
    "        prevSpecialNumber(n,dc,ic,c)\n",
    "    return c*dc\n",
    "t = int(input())\n",
    "for i in range(t):\n",
    "    c = 1\n",
    "    n = int(input())\n",
    "    dc = int(input())\n",
    "    ic = int(input())\n",
    "    isSpecialNumber(n)\n",
    "    a = nextSpecialNumber(n,dc,ic,c)\n",
    "    b = prevSpecialNumber(n,dc,ic,c)\n",
    "if a < b:\n",
    "    print(a)\n",
    "else:\n",
    "    print(b)\n"
   ]
  },
  {
   "cell_type": "code",
   "execution_count": null,
   "metadata": {},
   "outputs": [],
   "source": []
  }
 ],
 "metadata": {
  "kernelspec": {
   "display_name": "Python 3",
   "language": "python",
   "name": "python3"
  },
  "language_info": {
   "codemirror_mode": {
    "name": "ipython",
    "version": 3
   },
   "file_extension": ".py",
   "mimetype": "text/x-python",
   "name": "python",
   "nbconvert_exporter": "python",
   "pygments_lexer": "ipython3",
   "version": "3.7.3"
  }
 },
 "nbformat": 4,
 "nbformat_minor": 2
}
