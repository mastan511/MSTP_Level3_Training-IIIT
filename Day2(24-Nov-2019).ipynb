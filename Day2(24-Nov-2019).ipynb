{
 "cells": [
  {
   "cell_type": "markdown",
   "metadata": {},
   "source": [
    "### Class and Object"
   ]
  },
  {
   "cell_type": "code",
   "execution_count": 1,
   "metadata": {},
   "outputs": [
    {
     "data": {
      "text/plain": [
       "['__add__',\n",
       " '__class__',\n",
       " '__contains__',\n",
       " '__delattr__',\n",
       " '__dir__',\n",
       " '__doc__',\n",
       " '__eq__',\n",
       " '__format__',\n",
       " '__ge__',\n",
       " '__getattribute__',\n",
       " '__getitem__',\n",
       " '__getnewargs__',\n",
       " '__gt__',\n",
       " '__hash__',\n",
       " '__init__',\n",
       " '__init_subclass__',\n",
       " '__iter__',\n",
       " '__le__',\n",
       " '__len__',\n",
       " '__lt__',\n",
       " '__mod__',\n",
       " '__mul__',\n",
       " '__ne__',\n",
       " '__new__',\n",
       " '__reduce__',\n",
       " '__reduce_ex__',\n",
       " '__repr__',\n",
       " '__rmod__',\n",
       " '__rmul__',\n",
       " '__setattr__',\n",
       " '__sizeof__',\n",
       " '__str__',\n",
       " '__subclasshook__',\n",
       " 'capitalize',\n",
       " 'casefold',\n",
       " 'center',\n",
       " 'count',\n",
       " 'encode',\n",
       " 'endswith',\n",
       " 'expandtabs',\n",
       " 'find',\n",
       " 'format',\n",
       " 'format_map',\n",
       " 'index',\n",
       " 'isalnum',\n",
       " 'isalpha',\n",
       " 'isascii',\n",
       " 'isdecimal',\n",
       " 'isdigit',\n",
       " 'isidentifier',\n",
       " 'islower',\n",
       " 'isnumeric',\n",
       " 'isprintable',\n",
       " 'isspace',\n",
       " 'istitle',\n",
       " 'isupper',\n",
       " 'join',\n",
       " 'ljust',\n",
       " 'lower',\n",
       " 'lstrip',\n",
       " 'maketrans',\n",
       " 'partition',\n",
       " 'replace',\n",
       " 'rfind',\n",
       " 'rindex',\n",
       " 'rjust',\n",
       " 'rpartition',\n",
       " 'rsplit',\n",
       " 'rstrip',\n",
       " 'split',\n",
       " 'splitlines',\n",
       " 'startswith',\n",
       " 'strip',\n",
       " 'swapcase',\n",
       " 'title',\n",
       " 'translate',\n",
       " 'upper',\n",
       " 'zfill']"
      ]
     },
     "execution_count": 1,
     "metadata": {},
     "output_type": "execute_result"
    }
   ],
   "source": [
    "dir(str)"
   ]
  },
  {
   "cell_type": "code",
   "execution_count": 47,
   "metadata": {},
   "outputs": [],
   "source": [
    "class Point:\n",
    "    def __init__(self,x=0,y=0):\n",
    "        self.x = x\n",
    "        self.y = y\n",
    "        \n",
    "    def distaanceFromOrigin(self):\n",
    "        return (self.x**2+self.y**2)**0.5\n",
    "    def distance2Points(self,x1,y1):\n",
    "        return ((x1-self.x)**2+(y1-self.y)**2)**0.5\n",
    "    def midPoint(self,x1,y1):\n",
    "        return (self.x+x1)/2,(self.y+y1)/2"
   ]
  },
  {
   "cell_type": "code",
   "execution_count": 7,
   "metadata": {},
   "outputs": [],
   "source": [
    "p = Point()"
   ]
  },
  {
   "cell_type": "code",
   "execution_count": 8,
   "metadata": {},
   "outputs": [
    {
     "data": {
      "text/plain": [
       "7.810249675906654"
      ]
     },
     "execution_count": 8,
     "metadata": {},
     "output_type": "execute_result"
    }
   ],
   "source": [
    "p.distaanceFromOrigin(5,6)"
   ]
  },
  {
   "cell_type": "code",
   "execution_count": 29,
   "metadata": {},
   "outputs": [],
   "source": [
    "p1 = Point()"
   ]
  },
  {
   "cell_type": "code",
   "execution_count": 30,
   "metadata": {},
   "outputs": [
    {
     "data": {
      "text/plain": [
       "0"
      ]
     },
     "execution_count": 30,
     "metadata": {},
     "output_type": "execute_result"
    }
   ],
   "source": [
    "p1.x"
   ]
  },
  {
   "cell_type": "code",
   "execution_count": 31,
   "metadata": {},
   "outputs": [
    {
     "data": {
      "text/plain": [
       "0"
      ]
     },
     "execution_count": 31,
     "metadata": {},
     "output_type": "execute_result"
    }
   ],
   "source": [
    "p1.y"
   ]
  },
  {
   "cell_type": "code",
   "execution_count": 32,
   "metadata": {},
   "outputs": [
    {
     "data": {
      "text/plain": [
       "0.0"
      ]
     },
     "execution_count": 32,
     "metadata": {},
     "output_type": "execute_result"
    }
   ],
   "source": [
    "p1.distaanceFromOrigin()"
   ]
  },
  {
   "cell_type": "code",
   "execution_count": 56,
   "metadata": {},
   "outputs": [],
   "source": [
    "class Point:\n",
    "    def __init__(self,x=0,y=0):\n",
    "        self.x = x\n",
    "        self.y = y\n",
    "        \n",
    "    def distaanceFromOrigin(self):\n",
    "        return (self.x**2+self.y**2)**0.5\n",
    "    def distance2Points(self,x1,y1):\n",
    "        return ((x1-self.x)**2+(y1-self.y)**2)**0.5\n",
    "    def midPoint(self,x1,y1):\n",
    "        return Point((self.x+x1)/2,(self.y+y1)/2)\n",
    "    def print_Point(self):\n",
    "        print('({},{})'.format(self.x,self.y))"
   ]
  },
  {
   "cell_type": "code",
   "execution_count": 57,
   "metadata": {},
   "outputs": [
    {
     "name": "stdout",
     "output_type": "stream",
     "text": [
      "3 4\n",
      "5.0\n",
      "3.605551275463989\n",
      "2.0 2.5\n",
      "1.5\n",
      "3.2015621187164243\n",
      "(2.0,2.5)\n",
      "None\n"
     ]
    }
   ],
   "source": [
    "p2 = Point(3,4)\n",
    "print(p2.x,p2.y)\n",
    "print(p2.distaanceFromOrigin())\n",
    "print(p2.distance2Points(1,1))\n",
    "mid = p2.midPoint(1,1)\n",
    "print(mid.x,mid.y)\n",
    "print(mid.distance2Points(2,4))\n",
    "print(mid.distaanceFromOrigin())\n",
    "print(mid.print_Point())"
   ]
  },
  {
   "cell_type": "code",
   "execution_count": 157,
   "metadata": {},
   "outputs": [],
   "source": [
    "class SMS_Store:\n",
    "    def __init__(self):\n",
    "         #has_been_viewd = True\n",
    "            self.d = []\n",
    "         #self.has_been_viewd = has_been_viewd\n",
    "        \n",
    "    def add_new_arrival(self,from_number,time_arrived,text_of_sms):\n",
    "        has_been_viewd = False\n",
    "        self.d.append([from_number,time_arrived,text_of_sms,has_been_viewd])\n",
    "        print(\"message saved...\")\n",
    "            \n",
    "        \n",
    "    def message_count(self):\n",
    "        return len(self.d)\n",
    "        \n",
    "    def get_unread_indexes(self):\n",
    "        for i in range(len(self.d)):\n",
    "            if self.d[i][-1] == False:\n",
    "                print(self.d[i])\n",
    "        \n",
    "    \n",
    "    def get_message(self,i):\n",
    "        has_been_viewd = True\n",
    "        self.d[i][-1] = has_been_viewd\n",
    "        return self.d[i]\n",
    "        \n",
    "    def delete(self,i):\n",
    "        return self.d.pop(i)\n",
    "        \n",
    "    \n",
    "    def clear(self):\n",
    "        return self.d.clear()\n",
    "        "
   ]
  },
  {
   "cell_type": "code",
   "execution_count": 158,
   "metadata": {},
   "outputs": [],
   "source": [
    "my_inbox = SMS_Store()"
   ]
  },
  {
   "cell_type": "code",
   "execution_count": 159,
   "metadata": {},
   "outputs": [
    {
     "name": "stdout",
     "output_type": "stream",
     "text": [
      "message saved...\n"
     ]
    }
   ],
   "source": [
    "\n",
    "my_inbox.add_new_arrival(8500782761,10.35,\"Hi Mastan\")\n",
    "\n"
   ]
  },
  {
   "cell_type": "code",
   "execution_count": 160,
   "metadata": {},
   "outputs": [
    {
     "name": "stdout",
     "output_type": "stream",
     "text": [
      "message saved...\n"
     ]
    }
   ],
   "source": [
    "my_inbox.add_new_arrival(9493872308,10.47,\"Hello mastan Sir\")"
   ]
  },
  {
   "cell_type": "code",
   "execution_count": 161,
   "metadata": {},
   "outputs": [
    {
     "data": {
      "text/plain": [
       "2"
      ]
     },
     "execution_count": 161,
     "metadata": {},
     "output_type": "execute_result"
    }
   ],
   "source": [
    "my_inbox.message_count()"
   ]
  },
  {
   "cell_type": "code",
   "execution_count": 162,
   "metadata": {},
   "outputs": [
    {
     "data": {
      "text/plain": [
       "[9493872308, 10.47, 'Hello mastan Sir', True]"
      ]
     },
     "execution_count": 162,
     "metadata": {},
     "output_type": "execute_result"
    }
   ],
   "source": [
    "my_inbox.get_message(1)"
   ]
  },
  {
   "cell_type": "code",
   "execution_count": 163,
   "metadata": {},
   "outputs": [
    {
     "name": "stdout",
     "output_type": "stream",
     "text": [
      "[8500782761, 10.35, 'Hi Mastan', False]\n"
     ]
    }
   ],
   "source": [
    "my_inbox.get_unread_indexes()"
   ]
  },
  {
   "cell_type": "code",
   "execution_count": 164,
   "metadata": {},
   "outputs": [
    {
     "data": {
      "text/plain": [
       "[8500782761, 10.35, 'Hi Mastan', False]"
      ]
     },
     "execution_count": 164,
     "metadata": {},
     "output_type": "execute_result"
    }
   ],
   "source": [
    "my_inbox.delete(0)"
   ]
  },
  {
   "cell_type": "code",
   "execution_count": 165,
   "metadata": {},
   "outputs": [
    {
     "data": {
      "text/plain": [
       "[[9493872308, 10.47, 'Hello mastan Sir', True]]"
      ]
     },
     "execution_count": 165,
     "metadata": {},
     "output_type": "execute_result"
    }
   ],
   "source": [
    "my_inbox.d"
   ]
  },
  {
   "cell_type": "code",
   "execution_count": 166,
   "metadata": {},
   "outputs": [
    {
     "data": {
      "text/plain": [
       "1"
      ]
     },
     "execution_count": 166,
     "metadata": {},
     "output_type": "execute_result"
    }
   ],
   "source": [
    "my_inbox.message_count()"
   ]
  },
  {
   "cell_type": "code",
   "execution_count": 167,
   "metadata": {},
   "outputs": [],
   "source": [
    "my_inbox.clear()"
   ]
  },
  {
   "cell_type": "code",
   "execution_count": 168,
   "metadata": {},
   "outputs": [
    {
     "data": {
      "text/plain": [
       "[]"
      ]
     },
     "execution_count": 168,
     "metadata": {},
     "output_type": "execute_result"
    }
   ],
   "source": [
    "my_inbox.d"
   ]
  },
  {
   "cell_type": "markdown",
   "metadata": {},
   "source": [
    "### Regular Expressions"
   ]
  },
  {
   "cell_type": "code",
   "execution_count": 169,
   "metadata": {},
   "outputs": [],
   "source": [
    "import re as r"
   ]
  },
  {
   "cell_type": "code",
   "execution_count": 173,
   "metadata": {},
   "outputs": [
    {
     "name": "stdout",
     "output_type": "stream",
     "text": [
      "None\n"
     ]
    }
   ],
   "source": [
    "#re.search(str_pattern,target_string)\n",
    "name = 'python programming'\n",
    "print(r.search('z',name))"
   ]
  },
  {
   "cell_type": "code",
   "execution_count": 176,
   "metadata": {},
   "outputs": [
    {
     "name": "stdout",
     "output_type": "stream",
     "text": [
      "lakshmi\n",
      "hanuman\n",
      "raju\n"
     ]
    }
   ],
   "source": [
    "names = ['sairam','lakshmi','hanuman','raju']\n",
    "for i in names:\n",
    "    if r.search('u',i) or r.search('l',i):\n",
    "        print(i)"
   ]
  },
  {
   "cell_type": "code",
   "execution_count": 179,
   "metadata": {},
   "outputs": [
    {
     "name": "stdout",
     "output_type": "stream",
     "text": [
      "<re.Match object; span=(0, 1), match='p'>\n"
     ]
    }
   ],
   "source": [
    "#re.match(str_pattern,str_targeststring)\n",
    "name = 'python programming'\n",
    "print(r.match('p',name))"
   ]
  },
  {
   "cell_type": "code",
   "execution_count": 180,
   "metadata": {},
   "outputs": [
    {
     "name": "stdout",
     "output_type": "stream",
     "text": [
      "None\n"
     ]
    }
   ],
   "source": [
    "name = 'python programming'\n",
    "print(r.match('r',name))"
   ]
  },
  {
   "cell_type": "code",
   "execution_count": 186,
   "metadata": {},
   "outputs": [
    {
     "name": "stdout",
     "output_type": "stream",
     "text": [
      "<re.Match object; span=(0, 1), match='p'>\n"
     ]
    }
   ],
   "source": [
    "name = 'python programming'\n",
    "print(r.match('p',name))"
   ]
  },
  {
   "cell_type": "code",
   "execution_count": 189,
   "metadata": {},
   "outputs": [
    {
     "name": "stdout",
     "output_type": "stream",
     "text": [
      "['p', 'p']\n"
     ]
    }
   ],
   "source": [
    "#re.findall(str_pattern,str_target)\n",
    "name = 'python programming'\n",
    "print(r.findall('p',name))"
   ]
  },
  {
   "cell_type": "code",
   "execution_count": 193,
   "metadata": {},
   "outputs": [
    {
     "name": "stdout",
     "output_type": "stream",
     "text": [
      "<re.Match object; span=(0, 1), match='m'>\n"
     ]
    }
   ],
   "source": [
    "#Special characters with special meaning in regular expression\n",
    "#.dot == > Any Single character(begins)\n",
    "print(r.search('.','mastan vali'))"
   ]
  },
  {
   "cell_type": "code",
   "execution_count": 194,
   "metadata": {},
   "outputs": [
    {
     "name": "stdout",
     "output_type": "stream",
     "text": [
      "<re.Match object; span=(2, 4), match='st'>\n"
     ]
    }
   ],
   "source": [
    "print(r.search('s.',\"mastan vali\"))"
   ]
  },
  {
   "cell_type": "code",
   "execution_count": 196,
   "metadata": {},
   "outputs": [
    {
     "name": "stdout",
     "output_type": "stream",
     "text": [
      "<re.Match object; span=(0, 2), match='ma'>\n"
     ]
    }
   ],
   "source": [
    "print(r.match('m.',\"mastan vali\"))"
   ]
  },
  {
   "cell_type": "code",
   "execution_count": 200,
   "metadata": {},
   "outputs": [
    {
     "name": "stdout",
     "output_type": "stream",
     "text": [
      "<re.Match object; span=(0, 5), match='masta'>\n"
     ]
    }
   ],
   "source": [
    "print(r.search('.....',\"mastan vali\"))"
   ]
  },
  {
   "cell_type": "code",
   "execution_count": 201,
   "metadata": {},
   "outputs": [
    {
     "name": "stdout",
     "output_type": "stream",
     "text": [
      "None\n"
     ]
    }
   ],
   "source": [
    "print(r.search('...........',\"mastan\"))"
   ]
  },
  {
   "cell_type": "code",
   "execution_count": 206,
   "metadata": {},
   "outputs": [
    {
     "name": "stdout",
     "output_type": "stream",
     "text": [
      "123\n",
      "1234\n",
      "123\n",
      "1234\n"
     ]
    }
   ],
   "source": [
    "numbers = ['12','123','1234','123','1234']\n",
    "for i in numbers:\n",
    "    if r.search('...',i):\n",
    "        print(i)"
   ]
  },
  {
   "cell_type": "code",
   "execution_count": 209,
   "metadata": {},
   "outputs": [
    {
     "name": "stdout",
     "output_type": "stream",
     "text": [
      "<re.Match object; span=(0, 1), match='m'>\n"
     ]
    }
   ],
   "source": [
    "### ^ Symbol ==> starts with\n",
    "print(r.search('^m','mastan'))"
   ]
  },
  {
   "cell_type": "code",
   "execution_count": 211,
   "metadata": {},
   "outputs": [
    {
     "name": "stdout",
     "output_type": "stream",
     "text": [
      "<re.Match object; span=(10, 11), match='i'>\n"
     ]
    }
   ],
   "source": [
    "# $ symbol ==> ending with\n",
    "print(r.search('i$',\"mastan vali\"))"
   ]
  },
  {
   "cell_type": "code",
   "execution_count": 214,
   "metadata": {},
   "outputs": [
    {
     "name": "stdout",
     "output_type": "stream",
     "text": [
      "123\n",
      "123\n",
      "143\n"
     ]
    }
   ],
   "source": [
    "numbers = ['12','123','1234','123','1234','143']\n",
    "for i in numbers:\n",
    "    if r.search('^1.3$',i):\n",
    "        print(i)"
   ]
  },
  {
   "cell_type": "code",
   "execution_count": 223,
   "metadata": {},
   "outputs": [
    {
     "name": "stdout",
     "output_type": "stream",
     "text": [
      "9979406332272221\n"
     ]
    }
   ],
   "source": [
    "# \\d ==> Any single digit\n",
    "print(sum(map(int,r.findall('\\d{16}','mas7tan12357475856874658743658746584756483683685'))))"
   ]
  },
  {
   "cell_type": "code",
   "execution_count": 224,
   "metadata": {},
   "outputs": [
    {
     "data": {
      "text/plain": [
       "<re.Match object; span=(0, 2), match='sa'>"
      ]
     },
     "execution_count": 224,
     "metadata": {},
     "output_type": "execute_result"
    }
   ],
   "source": [
    "#{min,max}\n",
    "r.search('.{2}','sairam')"
   ]
  },
  {
   "cell_type": "code",
   "execution_count": 226,
   "metadata": {},
   "outputs": [],
   "source": [
    "r.search('.{6}','sair')"
   ]
  },
  {
   "cell_type": "code",
   "execution_count": 229,
   "metadata": {},
   "outputs": [
    {
     "data": {
      "text/plain": [
       "<re.Match object; span=(0, 6), match='mastan'>"
      ]
     },
     "execution_count": 229,
     "metadata": {},
     "output_type": "execute_result"
    }
   ],
   "source": [
    "r.search('.{4,6}','mastan vali')"
   ]
  },
  {
   "cell_type": "code",
   "execution_count": 231,
   "metadata": {},
   "outputs": [
    {
     "data": {
      "text/plain": [
       "['1', '100', '3000']"
      ]
     },
     "execution_count": 231,
     "metadata": {},
     "output_type": "execute_result"
    }
   ],
   "source": [
    "novel = 'every 1 has story or 100 or 3000'\n",
    "r.findall('\\d{1,5}',novel)"
   ]
  },
  {
   "cell_type": "code",
   "execution_count": 233,
   "metadata": {},
   "outputs": [
    {
     "data": {
      "text/plain": [
       "['a', 'a', 'a']"
      ]
     },
     "execution_count": 233,
     "metadata": {},
     "output_type": "execute_result"
    }
   ],
   "source": [
    "# accept names which starts with either 'a','c','h'\n",
    "#[ach] == > either a or either c or h\n",
    "r.findall('[ach]',\"mastan vali\")"
   ]
  },
  {
   "cell_type": "code",
   "execution_count": 234,
   "metadata": {},
   "outputs": [
    {
     "name": "stdout",
     "output_type": "stream",
     "text": [
      "9848022338\n",
      "7848022338\n"
     ]
    }
   ],
   "source": [
    "#[^acd] == > \n",
    "#Mobile number pattern\n",
    "numbers = ['9848022338','984802233','7848022338','5848022338']\n",
    "for mobile in numbers:\n",
    "    if r.search('^[6-9]{1}[0-9]{9}$',mobile):\n",
    "        print(mobile)"
   ]
  },
  {
   "cell_type": "code",
   "execution_count": 235,
   "metadata": {},
   "outputs": [
    {
     "data": {
      "text/plain": [
       "<re.Match object; span=(3, 4), match=' '>"
      ]
     },
     "execution_count": 235,
     "metadata": {},
     "output_type": "execute_result"
    }
   ],
   "source": [
    "# \\D charcter ==> other than single digit any single character\n",
    "r.search('\\D','123 ram')"
   ]
  },
  {
   "cell_type": "code",
   "execution_count": 236,
   "metadata": {},
   "outputs": [
    {
     "data": {
      "text/plain": [
       "<re.Match object; span=(6, 7), match=' '>"
      ]
     },
     "execution_count": 236,
     "metadata": {},
     "output_type": "execute_result"
    }
   ],
   "source": [
    "# \\s character == > Any spacing sigle character\n",
    "r.search('\\s',\"mastan vali\")"
   ]
  },
  {
   "cell_type": "code",
   "execution_count": 237,
   "metadata": {},
   "outputs": [
    {
     "data": {
      "text/plain": [
       "[' ', ' ']"
      ]
     },
     "execution_count": 237,
     "metadata": {},
     "output_type": "execute_result"
    }
   ],
   "source": [
    "r.findall('\\s',\"mastan vali mastan\")"
   ]
  },
  {
   "cell_type": "code",
   "execution_count": 239,
   "metadata": {},
   "outputs": [
    {
     "data": {
      "text/plain": [
       "<re.Match object; span=(3, 4), match='m'>"
      ]
     },
     "execution_count": 239,
     "metadata": {},
     "output_type": "execute_result"
    }
   ],
   "source": [
    "# \\S character ==> other than space\n",
    "r.search('\\S','   mastan')"
   ]
  },
  {
   "cell_type": "code",
   "execution_count": 240,
   "metadata": {},
   "outputs": [
    {
     "data": {
      "text/plain": [
       "<re.Match object; span=(2, 3), match='_'>"
      ]
     },
     "execution_count": 240,
     "metadata": {},
     "output_type": "execute_result"
    }
   ],
   "source": [
    "# \\w character ==> single identifier character\n",
    "# identify character = a-z,A-Z,_,0-9\n",
    "r.search('\\w','  _9az')"
   ]
  },
  {
   "cell_type": "code",
   "execution_count": 243,
   "metadata": {},
   "outputs": [
    {
     "data": {
      "text/plain": [
       "<re.Match object; span=(0, 1), match='s'>"
      ]
     },
     "execution_count": 243,
     "metadata": {},
     "output_type": "execute_result"
    }
   ],
   "source": [
    "r.search('\\w','sai')"
   ]
  },
  {
   "cell_type": "code",
   "execution_count": 244,
   "metadata": {},
   "outputs": [
    {
     "data": {
      "text/plain": [
       "<re.Match object; span=(4, 5), match=' '>"
      ]
     },
     "execution_count": 244,
     "metadata": {},
     "output_type": "execute_result"
    }
   ],
   "source": [
    "# \\W character ==> other than identifier character\n",
    "r.search('\\W',\"Sai_ ram\")"
   ]
  },
  {
   "cell_type": "code",
   "execution_count": 247,
   "metadata": {},
   "outputs": [
    {
     "data": {
      "text/plain": [
       "11"
      ]
     },
     "execution_count": 247,
     "metadata": {},
     "output_type": "execute_result"
    }
   ],
   "source": [
    "# find the lowercase a-z in the given data\n",
    "novel = 'Every 1 has Story'\n",
    "# c = 0\n",
    "# for i in novel:\n",
    "#     if i.islower():\n",
    "#         c+=1\n",
    "# print(c)\n",
    "len(r.findall('[a-z]',novel))"
   ]
  },
  {
   "cell_type": "code",
   "execution_count": 250,
   "metadata": {},
   "outputs": [
    {
     "name": "stdout",
     "output_type": "stream",
     "text": [
      "<re.Match object; span=(0, 1), match='a'>\n"
     ]
    }
   ],
   "source": [
    "# * character ==> zero or more occurances\n",
    "print(r.search('a*','apython'))"
   ]
  },
  {
   "cell_type": "code",
   "execution_count": 251,
   "metadata": {},
   "outputs": [
    {
     "name": "stdout",
     "output_type": "stream",
     "text": [
      "<re.Match object; span=(0, 4), match='1111'>\n"
     ]
    }
   ],
   "source": [
    "print(r.search('1*','111134353111'))"
   ]
  },
  {
   "cell_type": "code",
   "execution_count": 252,
   "metadata": {},
   "outputs": [
    {
     "name": "stdout",
     "output_type": "stream",
     "text": [
      "<re.Match object; span=(0, 2), match='sm'>\n"
     ]
    }
   ],
   "source": [
    "print(r.search('^s.*m$','sm'))"
   ]
  },
  {
   "cell_type": "code",
   "execution_count": 253,
   "metadata": {},
   "outputs": [
    {
     "name": "stdout",
     "output_type": "stream",
     "text": [
      "<re.Match object; span=(0, 8), match='smastanm'>\n"
     ]
    }
   ],
   "source": [
    "print(r.search('^s.*m$','smastanm'))"
   ]
  },
  {
   "cell_type": "code",
   "execution_count": 254,
   "metadata": {},
   "outputs": [
    {
     "data": {
      "text/plain": [
       "<re.Match object; span=(4, 9), match='11111'>"
      ]
     },
     "execution_count": 254,
     "metadata": {},
     "output_type": "execute_result"
    }
   ],
   "source": [
    "# + character ==> atlest one or more\n",
    "r.search('1+','2222111113411')"
   ]
  },
  {
   "cell_type": "code",
   "execution_count": 255,
   "metadata": {},
   "outputs": [
    {
     "data": {
      "text/plain": [
       "['11111', '11']"
      ]
     },
     "execution_count": 255,
     "metadata": {},
     "output_type": "execute_result"
    }
   ],
   "source": [
    "r.findall('1+','2222111113411')"
   ]
  },
  {
   "cell_type": "code",
   "execution_count": 271,
   "metadata": {},
   "outputs": [
    {
     "name": "stdout",
     "output_type": "stream",
     "text": [
      "True\n"
     ]
    }
   ],
   "source": [
    "#write pattern for accepring gmail\n",
    "if r.match('[a-zA-Z0-9._]{2,25}[@](gmail)[.com]','gopal3019@gmail.com'):\n",
    "    print('True')\n",
    "else:\n",
    "    print('False')\n"
   ]
  },
  {
   "cell_type": "code",
   "execution_count": 299,
   "metadata": {},
   "outputs": [
    {
     "name": "stdout",
     "output_type": "stream",
     "text": [
      "['ramu', 'got', '100', 'for', 'maths', '150', 'for', 'physics', 'and', 'total', 'marks', 'from', 'school', 'to', 'college', '4000', 'marks', 'he', 'got']\n",
      "250\n"
     ]
    }
   ],
   "source": [
    "#write a pattern to find the 3 digit numbers and calculate the sum\n",
    "content = 'ramu got 100 for maths 150 for physics and total marks from school to college 4000 marks he got'\n",
    "l = content.split()\n",
    "s = 0\n",
    "for i in l:\n",
    "    if len(i) == 3:\n",
    "        if r.match('\\d{3}',i):\n",
    "            s+=int(i)\n",
    "print(l)\n",
    "print(s)\n",
    "# li = r.findall('\\d{3}',content)\n",
    "# li = list(map(int,li))\n",
    "# sum(li[0:2])\n",
    "# print(sum(map(int,r.findall('[3-9]\\d\\d',content))))"
   ]
  },
  {
   "cell_type": "code",
   "execution_count": 300,
   "metadata": {},
   "outputs": [],
   "source": [
    "import os"
   ]
  },
  {
   "cell_type": "code",
   "execution_count": 301,
   "metadata": {},
   "outputs": [
    {
     "data": {
      "text/plain": [
       "'C:\\\\Users\\\\MastanVali\\\\Documents\\\\PythonPractices\\\\MSTP_Level3_IIIT'"
      ]
     },
     "execution_count": 301,
     "metadata": {},
     "output_type": "execute_result"
    }
   ],
   "source": [
    "#Current working directory\n",
    "os.getcwd()"
   ]
  },
  {
   "cell_type": "code",
   "execution_count": 304,
   "metadata": {},
   "outputs": [
    {
     "data": {
      "text/plain": [
       "['.ipynb_checkpoints',\n",
       " '07-Nov-2019.ipynb',\n",
       " '11-11-2019.ipynb',\n",
       " '12-Nov-2019.ipynb',\n",
       " '15-Nov-2019.ipynb',\n",
       " 'Aissignmet_Solutions',\n",
       " 'Akash Sir Class Work',\n",
       " 'Assignment2-Solutions.ipynb',\n",
       " 'Assignment3',\n",
       " 'DataCamp_Certificates',\n",
       " 'DataFiles',\n",
       " 'Day1(23-Nov-2019).ipynb',\n",
       " 'Day2(24-Nov-2019).ipynb',\n",
       " 'gapminder.tsv',\n",
       " 'Packages',\n",
       " 'pew.csv',\n",
       " 'scipy-2019-pandas-master',\n",
       " 'scipy-2019-pandas-master.zip']"
      ]
     },
     "execution_count": 304,
     "metadata": {},
     "output_type": "execute_result"
    }
   ],
   "source": [
    "os.listdir()"
   ]
  },
  {
   "cell_type": "code",
   "execution_count": 305,
   "metadata": {},
   "outputs": [
    {
     "data": {
      "text/plain": [
       "['All Users', 'Default', 'Default User', 'desktop.ini', 'MastanVali', 'Public']"
      ]
     },
     "execution_count": 305,
     "metadata": {},
     "output_type": "execute_result"
    }
   ],
   "source": [
    "os.listdir('c:/Users')"
   ]
  },
  {
   "cell_type": "code",
   "execution_count": 306,
   "metadata": {},
   "outputs": [
    {
     "data": {
      "text/plain": [
       "['$RECYCLE.BIN',\n",
       " '2019',\n",
       " 'Android(v2)_Solutioncodes',\n",
       " 'android_installation',\n",
       " 'android_sdk',\n",
       " 'android_sdk.zip',\n",
       " 'Graphic',\n",
       " 'Java',\n",
       " 'Softwares',\n",
       " 'System Volume Information',\n",
       " 'VVIT_TOT_Work']"
      ]
     },
     "execution_count": 306,
     "metadata": {},
     "output_type": "execute_result"
    }
   ],
   "source": [
    "os.listdir('E:')"
   ]
  },
  {
   "cell_type": "code",
   "execution_count": 308,
   "metadata": {},
   "outputs": [],
   "source": [
    "os.mkdir('temp Folder')"
   ]
  },
  {
   "cell_type": "code",
   "execution_count": 309,
   "metadata": {},
   "outputs": [],
   "source": [
    "os.chdir('temp Folder')"
   ]
  },
  {
   "cell_type": "code",
   "execution_count": 310,
   "metadata": {},
   "outputs": [
    {
     "name": "stdout",
     "output_type": "stream",
     "text": [
      "C:\\Users\\MastanVali\\Documents\\PythonPractices\\MSTP_Level3_IIIT\\temp Folder\n"
     ]
    }
   ],
   "source": [
    "print(os.getcwd())"
   ]
  },
  {
   "cell_type": "code",
   "execution_count": 311,
   "metadata": {},
   "outputs": [],
   "source": [
    "os.chdir('..')"
   ]
  },
  {
   "cell_type": "code",
   "execution_count": 312,
   "metadata": {},
   "outputs": [
    {
     "name": "stdout",
     "output_type": "stream",
     "text": [
      "C:\\Users\\MastanVali\\Documents\\PythonPractices\\MSTP_Level3_IIIT\n"
     ]
    }
   ],
   "source": [
    "print(os.getcwd())"
   ]
  },
  {
   "cell_type": "code",
   "execution_count": 314,
   "metadata": {},
   "outputs": [],
   "source": [
    "import statistics as st"
   ]
  },
  {
   "cell_type": "code",
   "execution_count": 315,
   "metadata": {},
   "outputs": [
    {
     "data": {
      "text/plain": [
       "['Decimal',\n",
       " 'Fraction',\n",
       " 'StatisticsError',\n",
       " '__all__',\n",
       " '__builtins__',\n",
       " '__cached__',\n",
       " '__doc__',\n",
       " '__file__',\n",
       " '__loader__',\n",
       " '__name__',\n",
       " '__package__',\n",
       " '__spec__',\n",
       " '_coerce',\n",
       " '_convert',\n",
       " '_counts',\n",
       " '_exact_ratio',\n",
       " '_fail_neg',\n",
       " '_find_lteq',\n",
       " '_find_rteq',\n",
       " '_isfinite',\n",
       " '_ss',\n",
       " '_sum',\n",
       " 'bisect_left',\n",
       " 'bisect_right',\n",
       " 'collections',\n",
       " 'groupby',\n",
       " 'harmonic_mean',\n",
       " 'math',\n",
       " 'mean',\n",
       " 'median',\n",
       " 'median_grouped',\n",
       " 'median_high',\n",
       " 'median_low',\n",
       " 'mode',\n",
       " 'numbers',\n",
       " 'pstdev',\n",
       " 'pvariance',\n",
       " 'stdev',\n",
       " 'variance']"
      ]
     },
     "execution_count": 315,
     "metadata": {},
     "output_type": "execute_result"
    }
   ],
   "source": [
    "dir(st)"
   ]
  },
  {
   "cell_type": "code",
   "execution_count": 316,
   "metadata": {},
   "outputs": [
    {
     "data": {
      "text/plain": [
       "3"
      ]
     },
     "execution_count": 316,
     "metadata": {},
     "output_type": "execute_result"
    }
   ],
   "source": [
    "st.mean([1,2,3,4,5])#Average"
   ]
  },
  {
   "cell_type": "code",
   "execution_count": 317,
   "metadata": {},
   "outputs": [
    {
     "data": {
      "text/plain": [
       "30"
      ]
     },
     "execution_count": 317,
     "metadata": {},
     "output_type": "execute_result"
    }
   ],
   "source": [
    "st.median([50,20,30,10,40])"
   ]
  },
  {
   "cell_type": "code",
   "execution_count": 318,
   "metadata": {},
   "outputs": [
    {
     "data": {
      "text/plain": [
       "40.0"
      ]
     },
     "execution_count": 318,
     "metadata": {},
     "output_type": "execute_result"
    }
   ],
   "source": [
    "st.median([50,20,30,10,50,60])"
   ]
  },
  {
   "cell_type": "code",
   "execution_count": 321,
   "metadata": {},
   "outputs": [
    {
     "data": {
      "text/plain": [
       "30"
      ]
     },
     "execution_count": 321,
     "metadata": {},
     "output_type": "execute_result"
    }
   ],
   "source": [
    "st.median_high([50,20,30,10,40])#After sorting "
   ]
  },
  {
   "cell_type": "code",
   "execution_count": 322,
   "metadata": {},
   "outputs": [
    {
     "data": {
      "text/plain": [
       "30"
      ]
     },
     "execution_count": 322,
     "metadata": {},
     "output_type": "execute_result"
    }
   ],
   "source": [
    "st.median_low([50,20,30,10,50,60])"
   ]
  },
  {
   "cell_type": "code",
   "execution_count": 324,
   "metadata": {},
   "outputs": [
    {
     "data": {
      "text/plain": [
       "[10, 20, 30, 50, 50, 60]"
      ]
     },
     "execution_count": 324,
     "metadata": {},
     "output_type": "execute_result"
    }
   ],
   "source": [
    "sorted([50,20,30,10,50,60])"
   ]
  },
  {
   "cell_type": "code",
   "execution_count": 327,
   "metadata": {},
   "outputs": [
    {
     "name": "stdout",
     "output_type": "stream",
     "text": [
      "[10, 10, 10, 10, 20, 30]\n",
      "[(10, 4), (20, 1), (30, 1)]\n"
     ]
    }
   ],
   "source": [
    "from collections import Counter\n",
    "cnt = Counter([10,20,30,10,10,10])\n",
    "print(list(cnt.elements()))\n",
    "print(cnt.most_common())"
   ]
  },
  {
   "cell_type": "code",
   "execution_count": 331,
   "metadata": {},
   "outputs": [
    {
     "name": "stdout",
     "output_type": "stream",
     "text": [
      "[('b', 4)]\n",
      "[('b', 4), ('a', 2)]\n"
     ]
    }
   ],
   "source": [
    "cnt1 = Counter('abcabcbb')\n",
    "print(cnt1.most_common(1))\n",
    "print(cnt1.most_common(2))"
   ]
  },
  {
   "cell_type": "code",
   "execution_count": 333,
   "metadata": {},
   "outputs": [
    {
     "name": "stdout",
     "output_type": "stream",
     "text": [
      "['ArithmeticError', 'AssertionError', 'AttributeError', 'BaseException', 'BlockingIOError', 'BrokenPipeError', 'BufferError', 'BytesWarning', 'ChildProcessError', 'ConnectionAbortedError', 'ConnectionError', 'ConnectionRefusedError', 'ConnectionResetError', 'DeprecationWarning', 'EOFError', 'Ellipsis', 'EnvironmentError', 'Exception', 'False', 'FileExistsError', 'FileNotFoundError', 'FloatingPointError', 'FutureWarning', 'GeneratorExit', 'IOError', 'ImportError', 'ImportWarning', 'IndentationError', 'IndexError', 'InterruptedError', 'IsADirectoryError', 'KeyError', 'KeyboardInterrupt', 'LookupError', 'MemoryError', 'ModuleNotFoundError', 'NameError', 'None', 'NotADirectoryError', 'NotImplemented', 'NotImplementedError', 'OSError', 'OverflowError', 'PendingDeprecationWarning', 'PermissionError', 'ProcessLookupError', 'RecursionError', 'ReferenceError', 'ResourceWarning', 'RuntimeError', 'RuntimeWarning', 'StopAsyncIteration', 'StopIteration', 'SyntaxError', 'SyntaxWarning', 'SystemError', 'SystemExit', 'TabError', 'TimeoutError', 'True', 'TypeError', 'UnboundLocalError', 'UnicodeDecodeError', 'UnicodeEncodeError', 'UnicodeError', 'UnicodeTranslateError', 'UnicodeWarning', 'UserWarning', 'ValueError', 'Warning', 'WindowsError', 'ZeroDivisionError', '__IPYTHON__', '__build_class__', '__debug__', '__doc__', '__import__', '__loader__', '__name__', '__package__', '__spec__', 'abs', 'all', 'any', 'ascii', 'bin', 'bool', 'breakpoint', 'bytearray', 'bytes', 'callable', 'chr', 'classmethod', 'compile', 'complex', 'copyright', 'credits', 'delattr', 'dict', 'dir', 'display', 'divmod', 'enumerate', 'eval', 'exec', 'filter', 'float', 'format', 'frozenset', 'get_ipython', 'getattr', 'globals', 'hasattr', 'hash', 'help', 'hex', 'id', 'input', 'int', 'isinstance', 'issubclass', 'iter', 'len', 'license', 'list', 'locals', 'map', 'max', 'memoryview', 'min', 'next', 'object', 'oct', 'open', 'ord', 'pow', 'print', 'property', 'range', 'repr', 'reversed', 'round', 'set', 'setattr', 'slice', 'sorted', 'staticmethod', 'str', 'sum', 'super', 'tuple', 'type', 'vars', 'zip']\n"
     ]
    }
   ],
   "source": [
    "print(dir(__builtins__))"
   ]
  },
  {
   "cell_type": "code",
   "execution_count": 334,
   "metadata": {},
   "outputs": [
    {
     "name": "stdout",
     "output_type": "stream",
     "text": [
      "\n",
      "Please wait a moment while I gather a list of all available modules...\n",
      "\n"
     ]
    },
    {
     "name": "stderr",
     "output_type": "stream",
     "text": [
      "C:\\ProgramData\\Anaconda3\\lib\\site-packages\\IPython\\kernel\\__init__.py:13: ShimWarning: The `IPython.kernel` package has been deprecated since IPython 4.0.You should import from ipykernel or jupyter_client instead.\n",
      "  \"You should import from ipykernel or jupyter_client instead.\", ShimWarning)\n",
      "WARNING: AstropyDeprecationWarning: astropy.utils.compat.futures is now deprecated - use concurrent.futures instead [astropy.utils.compat.futures]\n",
      "WARNING: The conda.compat module is deprecated and will be removed in a future release.\n",
      "C:\\ProgramData\\Anaconda3\\lib\\site-packages\\distributed\\config.py:20: YAMLLoadWarning: calling yaml.load() without Loader=... is deprecated, as the default Loader is unsafe. Please read https://msg.pyyaml.org/load for full details.\n",
      "  defaults = yaml.load(f)\n",
      "C:\\ProgramData\\Anaconda3\\lib\\site-packages\\nltk\\twitter\\__init__.py:22: UserWarning: The twython library has not been installed. Some functionality from the twitter package will not be available.\n",
      "  \"The twython library has not been installed. \"\n",
      "C:\\ProgramData\\Anaconda3\\lib\\site-packages\\skimage\\novice\\__init__.py:103: UserWarning: The `skimage.novice` module was deprecated in version 0.14. It will be removed in 0.16.\n",
      "  warnings.warn(\"The `skimage.novice` module was deprecated in version 0.14. \"\n",
      "C:\\ProgramData\\Anaconda3\\lib\\site-packages\\skimage\\viewer\\utils\\core.py:10: UserWarning: Recommended matplotlib backend is `Agg` for full skimage.viewer functionality.\n",
      "  warn(\"Recommended matplotlib backend is `Agg` for full \"\n",
      "C:\\ProgramData\\Anaconda3\\lib\\site-packages\\sphinx\\websupport\\__init__.py:25: RemovedInSphinx20Warning: sphinx.websupport module is now provided as sphinxcontrib-websupport. sphinx.websupport will be removed at Sphinx-2.0. Please use the package instead.\n",
      "  RemovedInSphinx20Warning)\n",
      "C:\\ProgramData\\Anaconda3\\lib\\site-packages\\qtawesome\\iconic_font.py:276: UserWarning: You need to have a running QApplication to use QtAwesome!\n",
      "  warnings.warn(\"You need to have a running \"\n",
      "C:\\ProgramData\\Anaconda3\\lib\\pkgutil.py:107: VisibleDeprecationWarning: zmq.eventloop.minitornado is deprecated in pyzmq 14.0 and will be removed.\n",
      "    Install tornado itself to use zmq with the tornado IOLoop.\n",
      "    \n",
      "  yield from walk_packages(path, info.name+'.', onerror)\n"
     ]
    },
    {
     "name": "stdout",
     "output_type": "stream",
     "text": [
      "Crypto              builtins            mistune             soupsieve\n",
      "Cython              bz2                 mkl                 sphinx\n",
      "IPython             cProfile            mkl_fft             sphinxcontrib\n",
      "OpenSSL             calendar            mkl_random          spyder\n",
      "PIL                 certifi             mmap                spyder_breakpoints\n",
      "PyQt5               cffi                mmapfile            spyder_io_dcm\n",
      "__future__          cgi                 mmsystem            spyder_io_hdf5\n",
      "_abc                cgitb               modulefinder        spyder_kernels\n",
      "_ast                chardet             more_itertools      spyder_profiler\n",
      "_asyncio            chunk               mpmath              spyder_pylint\n",
      "_bisect             click               msgpack             sqlalchemy\n",
      "_blake2             cloudpickle         msilib              sqlite3\n",
      "_bootlocale         clyent              msvcrt              sre_compile\n",
      "_bz2                cmath               multipledispatch    sre_constants\n",
      "_cffi_backend       cmd                 multiprocessing     sre_parse\n",
      "_codecs             code                navigator_updater   ssl\n",
      "_codecs_cn          codecs              nbconvert           sspi\n",
      "_codecs_hk          codeop              nbformat            sspicon\n",
      "_codecs_iso2022     collections         netbios             stat\n",
      "_codecs_jp          colorama            netrc               statistics\n",
      "_codecs_kr          colorsys            networkx            statsmodels\n",
      "_codecs_tw          commctrl            nltk                storemagic\n",
      "_collections        compileall          nntplib             string\n",
      "_collections_abc    comtypes            nose                stringprep\n",
      "_compat_pickle      concurrent          notebook            struct\n",
      "_compression        conda               nt                  subprocess\n",
      "_contextvars        conda_build         ntpath              sunau\n",
      "_csv                conda_env           ntsecuritycon       symbol\n",
      "_ctypes             conda_verify        nturl2path          sympy\n",
      "_ctypes_test        configparser        numba               sympyprinting\n",
      "_datetime           contextlib          numbers             symtable\n",
      "_decimal            contextlib2         numexpr             sys\n",
      "_dummy_thread       contextvars         numpy               sysconfig\n",
      "_elementtree        copy                numpydoc            tables\n",
      "_functools          copyreg             odbc                tabnanny\n",
      "_hashlib            crypt               olefile             tarfile\n",
      "_heapq              cryptography        opcode              tblib\n",
      "_imp                csv                 openpyxl            telnetlib\n",
      "_io                 ctypes              operator            tempfile\n",
      "_json               curl                optparse            terminado\n",
      "_locale             curses              os                  test\n",
      "_lsprof             cv2                 packaging           test_data\n",
      "_lzma               cwp                 pandas              test_path\n",
      "_markupbase         cycler              pandocfilters       test_pycosat\n",
      "_md5                cython              parser              testpath\n",
      "_msi                cythonmagic         parso               tests\n",
      "_multibytecodec     cytoolz             partd               textwrap\n",
      "_multiprocessing    dask                past                this\n",
      "_nsis               dataclasses         path                threading\n",
      "_opcode             datetime            pathlib             time\n",
      "_operator           dateutil            pathlib2            timeit\n",
      "_osx_support        dbi                 patsy               timer\n",
      "_overlapped         dbm                 pdb                 tkinter\n",
      "_pickle             dde                 pep8                tlz\n",
      "_py_abc             decimal             perfmon             token\n",
      "_pydecimal          decorator           pickle              tokenize\n",
      "_pyio               defusedxml          pickleshare         toolz\n",
      "_pylief             difflib             pickletools         tornado\n",
      "_pyrsistent_version dis                 pip                 tqdm\n",
      "_pytest             distributed         pipes               trace\n",
      "_queue              distutils           pkg_resources       traceback\n",
      "_random             doctest             pkginfo             tracemalloc\n",
      "_sha1               docutils            pkgutil             traitlets\n",
      "_sha256             dummy_threading     platform            tty\n",
      "_sha3               easy_install        plistlib            turtle\n",
      "_sha512             email               pluggy              turtledemo\n",
      "_signal             encodings           ply                 types\n",
      "_sitebuiltins       ensurepip           poplib              typing\n",
      "_socket             entrypoints         posixpath           unicodecsv\n",
      "_sqlite3            enum                pprint              unicodedata\n",
      "_sre                errno               profile             unittest\n",
      "_ssl                et_xmlfile          prometheus_client   urllib\n",
      "_stat               fastcache           prompt_toolkit      urllib3\n",
      "_string             faulthandler        pstats              uu\n",
      "_strptime           filecmp             psutil              uuid\n",
      "_struct             fileinput           pty                 venv\n",
      "_symtable           filelock            pvectorc            warnings\n",
      "_system_path        flask               py                  wave\n",
      "_testbuffer         fnmatch             py_compile          wcwidth\n",
      "_testcapi           formatter           pyclbr              weakref\n",
      "_testconsole        fractions           pycodestyle         webbrowser\n",
      "_testimportmultiple ftplib              pycosat             webencodings\n",
      "_testmultiphase     functools           pycparser           werkzeug\n",
      "_thread             future              pycurl              wheel\n",
      "_threading_local    gc                  pydoc               widgetsnbextension\n",
      "_tkinter            genericpath         pydoc_data          win2kras\n",
      "_tracemalloc        getopt              pyexpat             win32api\n",
      "_warnings           getpass             pyflakes            win32clipboard\n",
      "_weakref            gettext             pygments            win32com\n",
      "_weakrefset         gevent              pylab               win32con\n",
      "_win32sysloader     glob                pylint              win32console\n",
      "_winapi             glob2               pyodbc              win32cred\n",
      "_winxptheme         greenlet            pyparsing           win32crypt\n",
      "_yaml               gzip                pyreadline          win32cryptcon\n",
      "abc                 h5py                pyrsistent          win32event\n",
      "adodbapi            hashlib             pytest              win32evtlog\n",
      "afxres              heapdict            pytest_arraydiff    win32evtlogutil\n",
      "aifc                heapq               pytest_doctestplus  win32file\n",
      "alabaster           hmac                pytest_openfiles    win32gui\n",
      "anaconda_navigator  html                pytest_remotedata   win32gui_struct\n",
      "anaconda_project    html5lib            pythoncom           win32help\n",
      "antigravity         http                pytz                win32inet\n",
      "argparse            idlelib             pywin               win32inetcon\n",
      "array               idna                pywin32_testutil    win32job\n",
      "asn1crypto          imageio             pywintypes          win32lz\n",
      "ast                 imagesize           pywt                win32net\n",
      "astroid             imaplib             pyximport           win32netcon\n",
      "astropy             imghdr              qtawesome           win32pdh\n",
      "asynchat            imp                 qtconsole           win32pdhquery\n",
      "asyncio             importlib           qtpy                win32pdhutil\n",
      "asyncore            importlib_metadata  queue               win32pipe\n",
      "atexit              inspect             quopri              win32print\n",
      "atomicwrites        io                  random              win32process\n",
      "attr                ipaddress           rasutil             win32profile\n",
      "audioop             ipykernel           re                  win32ras\n",
      "autoreload          ipykernel_launcher  readline            win32rcparser\n",
      "babel               ipython_genutils    regcheck            win32security\n"
     ]
    },
    {
     "name": "stdout",
     "output_type": "stream",
     "text": [
      "backcall            ipywidgets          regutil             win32service\n",
      "backports           isapi               reprlib             win32serviceutil\n",
      "base64              isort               requests            win32timezone\n",
      "bdb                 isympy              rlcompleter         win32trace\n",
      "binascii            itertools           rmagic              win32traceutil\n",
      "binhex              itsdangerous        rope                win32transaction\n",
      "binstar_client      jdcal               ruamel_yaml         win32ts\n",
      "bisect              jedi                run                 win32ui\n",
      "bitarray            jinja2              runpy               win32uiole\n",
      "bkcharts            json                sched               win32verstamp\n",
      "bleach              jsonschema          scipy               win32wnet\n",
      "bokeh               jupyter             scripts             win_inet_pton\n",
      "boto                jupyter_client      seaborn             win_unicode_console\n",
      "bottleneck          jupyter_console     secrets             wincertstore\n",
      "brain_argparse      jupyter_core        select              winerror\n",
      "brain_attrs         jupyterlab          selectors           winioctlcon\n",
      "brain_builtin_inference jupyterlab_server   send2trash          winnt\n",
      "brain_collections   keyring             servicemanager      winperf\n",
      "brain_curses        keyword             setuptools          winpty\n",
      "brain_dateutil      kiwisolver          shelve              winreg\n",
      "brain_fstrings      lazy_object_proxy   shlex               winsound\n",
      "brain_functools     lib2to3             shutil              winxpgui\n",
      "brain_gi            libarchive          signal              winxptheme\n",
      "brain_hashlib       libfuturize         simplegeneric       wrapt\n",
      "brain_http          libpasteurize       singledispatch      wsgiref\n",
      "brain_io            lief                singledispatch_helpers xdrlib\n",
      "brain_mechanize     linecache           sip                 xlrd\n",
      "brain_multiprocessing llvmlite            sipconfig           xlsxwriter\n",
      "brain_namedtuple_enum locale              sipdistutils        xlwings\n",
      "brain_nose          locket              site                xlwt\n",
      "brain_numpy         logging             six                 xml\n",
      "brain_pkg_resources lxml                skimage             xmlrpc\n",
      "brain_pytest        lzma                sklearn             xxsubtype\n",
      "brain_qt            macpath             smtpd               yaml\n",
      "brain_random        mailbox             smtplib             zict\n",
      "brain_re            mailcap             sndhdr              zipapp\n",
      "brain_six           markupsafe          snowballstemmer     zipfile\n",
      "brain_ssl           marshal             socket              zipimport\n",
      "brain_subprocess    math                socketserver        zipp\n",
      "brain_threading     matplotlib          socks               zlib\n",
      "brain_typing        mccabe              sockshandler        zmq\n",
      "brain_uuid          menuinst            sortedcollections   \n",
      "bs4                 mimetypes           sortedcontainers    \n",
      "\n",
      "Enter any module name to get more help.  Or, type \"modules spam\" to search\n",
      "for modules whose name or summary contain the string \"spam\".\n",
      "\n",
      "DEBUG:matplotlib.pyplot:Loaded backend module://ipykernel.pylab.backend_inline version unknown.\n"
     ]
    }
   ],
   "source": [
    "help('modules')"
   ]
  },
  {
   "cell_type": "code",
   "execution_count": 335,
   "metadata": {},
   "outputs": [],
   "source": [
    "import sys"
   ]
  },
  {
   "cell_type": "code",
   "execution_count": 336,
   "metadata": {},
   "outputs": [
    {
     "data": {
      "text/plain": [
       "['C:\\\\ProgramData\\\\Anaconda3\\\\lib\\\\site-packages\\\\spyder\\\\utils\\\\help',\n",
       " 'C:\\\\Users\\\\MastanVali\\\\Documents\\\\PythonPractices\\\\MSTP_Level3_IIIT',\n",
       " 'C:\\\\ProgramData\\\\Anaconda3\\\\python37.zip',\n",
       " 'C:\\\\ProgramData\\\\Anaconda3\\\\DLLs',\n",
       " 'C:\\\\ProgramData\\\\Anaconda3\\\\lib',\n",
       " 'C:\\\\ProgramData\\\\Anaconda3',\n",
       " '',\n",
       " 'C:\\\\ProgramData\\\\Anaconda3\\\\lib\\\\site-packages',\n",
       " 'C:\\\\ProgramData\\\\Anaconda3\\\\lib\\\\site-packages\\\\win32',\n",
       " 'C:\\\\ProgramData\\\\Anaconda3\\\\lib\\\\site-packages\\\\win32\\\\lib',\n",
       " 'C:\\\\ProgramData\\\\Anaconda3\\\\lib\\\\site-packages\\\\Pythonwin',\n",
       " 'C:\\\\ProgramData\\\\Anaconda3\\\\lib\\\\site-packages\\\\IPython\\\\extensions',\n",
       " 'C:\\\\Users\\\\MastanVali\\\\.ipython',\n",
       " 'C:\\\\ProgramData\\\\Anaconda3\\\\lib\\\\site-packages\\\\astroid\\\\brain']"
      ]
     },
     "execution_count": 336,
     "metadata": {},
     "output_type": "execute_result"
    }
   ],
   "source": [
    "sys.path"
   ]
  },
  {
   "cell_type": "code",
   "execution_count": 340,
   "metadata": {},
   "outputs": [
    {
     "data": {
      "text/plain": [
       "'3.7.3 (default, Mar 27 2019, 17:13:21) [MSC v.1915 64 bit (AMD64)]'"
      ]
     },
     "execution_count": 340,
     "metadata": {},
     "output_type": "execute_result"
    }
   ],
   "source": [
    "sys.version"
   ]
  },
  {
   "cell_type": "code",
   "execution_count": null,
   "metadata": {},
   "outputs": [],
   "source": []
  }
 ],
 "metadata": {
  "kernelspec": {
   "display_name": "Python 3",
   "language": "python",
   "name": "python3"
  },
  "language_info": {
   "codemirror_mode": {
    "name": "ipython",
    "version": 3
   },
   "file_extension": ".py",
   "mimetype": "text/x-python",
   "name": "python",
   "nbconvert_exporter": "python",
   "pygments_lexer": "ipython3",
   "version": "3.7.3"
  }
 },
 "nbformat": 4,
 "nbformat_minor": 2
}
