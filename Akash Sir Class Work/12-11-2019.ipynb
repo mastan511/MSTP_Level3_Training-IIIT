{
 "cells": [
  {
   "cell_type": "markdown",
   "metadata": {},
   "source": [
    "### Data Cleaning\n",
    "* Importing the Data Set(CSV)\n",
    "\n",
    "* Observe the Data Set\n",
    "    * Identify the rows/columns and their relation\n",
    "    * Identify the Index Column (Primary Key Column)\n",
    "    * Check if there are any duplicate columns\n",
    "    * Which rows to be skipped\n",
    "\n",
    "* Assign the Index Column (to avoid creation of new index column)\n",
    "* Skip irrelevant rows (to avoid display of index row)\n",
    "* Drop duplicate/irrelevant columns"
   ]
  },
  {
   "cell_type": "code",
   "execution_count": 14,
   "metadata": {},
   "outputs": [],
   "source": [
    "import pandas as pd\n",
    "\n",
    "df = pd.read_csv('olympics.csv', index_col=0, skiprows=1)\n",
    "\n",
    "for col in df.columns:\n",
    "    if col[:2]=='01':\n",
    "        df.rename(columns={col:'Gold'+col[4:]}, inplace=True)\n",
    "    if col[:2]=='02':\n",
    "        df.rename(columns={col:'Silver'+col[4:]}, inplace=True)\n",
    "    if col[:2]=='03':\n",
    "        df.rename(columns={col:'Bronze'+col[4:]}, inplace=True)\n",
    "    if col[:1]=='№':\n",
    "        df.rename(columns={col:'#'+col[1:]}, inplace=True)\n",
    "\n",
    "names_ids = df.index.str.split('\\s\\(') # split the index by '('\n",
    "\n",
    "df.index = names_ids.str[0] # the [0] element is the country name (new index) \n",
    "df['ID'] = names_ids.str[1].str[:3] # the [1] element is the abbreviation or ID (take first 3 characters from that)\n",
    "\n",
    "df.drop('Totals', inplace=True)\n"
   ]
  },
  {
   "cell_type": "markdown",
   "metadata": {},
   "source": [
    "### Data Retrieval\n",
    "\n",
    "* Index Column\n",
    "* Column names\n",
    "* Second Column\n",
    "* Any Column\n",
    "* First Row\n",
    "* Any Row\n",
    "* Single Cell data\n"
   ]
  },
  {
   "cell_type": "code",
   "execution_count": 29,
   "metadata": {},
   "outputs": [
    {
     "data": {
      "text/plain": [
       "26"
      ]
     },
     "execution_count": 29,
     "metadata": {},
     "output_type": "execute_result"
    }
   ],
   "source": [
    "# Returns the Index Column\n",
    "df.index\n",
    "df['Total'] # Returns the Total column -> total medals in summer olympics\n",
    "df['Total.1'] # Returns the Total.1 column\n",
    "df.head(1) # Returns sub data frame with the specified rows\n",
    "df.loc['India'] # Returns a single row\n",
    "df.index[1] # Returns the second country name\n",
    "df['Gold'][4] # Returns the Gold medals won by the fifth country(Column -> Row)\n",
    "df.iloc[4][1] #Returns the Gold medals won by fifth country (Row -> Column)\n",
    "df.loc['India'][-2] # Returns Total medals won by India"
   ]
  },
  {
   "cell_type": "code",
   "execution_count": 30,
   "metadata": {},
   "outputs": [
    {
     "data": {
      "text/plain": [
       "Index(['# Summer', 'Gold', 'Silver', 'Bronze', 'Total', '# Winter', 'Gold.1',\n",
       "       'Silver.1', 'Bronze.1', 'Total.1', '# Games', 'Gold.2', 'Silver.2',\n",
       "       'Bronze.2', 'Combined total', 'ID'],\n",
       "      dtype='object')"
      ]
     },
     "execution_count": 30,
     "metadata": {},
     "output_type": "execute_result"
    }
   ],
   "source": [
    "# Returns the column names or first row\n",
    "df.columns"
   ]
  },
  {
   "cell_type": "code",
   "execution_count": 32,
   "metadata": {},
   "outputs": [
    {
     "data": {
      "text/plain": [
       "Afghanistan                            2\n",
       "Algeria                               15\n",
       "Argentina                             70\n",
       "Armenia                               12\n",
       "Australasia                           12\n",
       "Australia                            480\n",
       "Austria                              304\n",
       "Azerbaijan                            26\n",
       "Bahamas                               12\n",
       "Bahrain                                1\n",
       "Barbados                               1\n",
       "Belarus                               90\n",
       "Belgium                              147\n",
       "Bermuda                                1\n",
       "Bohemia                                4\n",
       "Botswana                               1\n",
       "Brazil                               108\n",
       "British West Indies                    2\n",
       "Bulgaria                             220\n",
       "Burundi                                1\n",
       "Cameroon                               5\n",
       "Canada                               449\n",
       "Chile                                 13\n",
       "China                                526\n",
       "Colombia                              19\n",
       "Costa Rica                             4\n",
       "Ivory Coast                            1\n",
       "Croatia                               34\n",
       "Cuba                                 209\n",
       "Cyprus                                 1\n",
       "                                    ... \n",
       "Spain                                133\n",
       "Sri Lanka                              2\n",
       "Sudan                                  1\n",
       "Suriname                               2\n",
       "Sweden                               627\n",
       "Switzerland                          323\n",
       "Syria                                  3\n",
       "Chinese Taipei                        21\n",
       "Tajikistan                             3\n",
       "Tanzania                               2\n",
       "Thailand                              24\n",
       "Togo                                   1\n",
       "Tonga                                  1\n",
       "Trinidad and Tobago                   18\n",
       "Tunisia                               10\n",
       "Turkey                                88\n",
       "Uganda                                 7\n",
       "Ukraine                              122\n",
       "United Arab Emirates                   1\n",
       "United States                       2681\n",
       "Uruguay                               10\n",
       "Uzbekistan                            21\n",
       "Venezuela                             12\n",
       "Vietnam                                2\n",
       "Virgin Islands                         1\n",
       "Yugoslavia                            87\n",
       "Independent Olympic Participants       3\n",
       "Zambia                                 2\n",
       "Zimbabwe                               8\n",
       "Mixed team                            17\n",
       "Name: Combined total, Length: 146, dtype: int64"
      ]
     },
     "execution_count": 32,
     "metadata": {},
     "output_type": "execute_result"
    }
   ],
   "source": [
    "#Display the Combined Total column with indexes (Selecting column data)\n",
    "\n",
    "df['Combined total']"
   ]
  },
  {
   "cell_type": "code",
   "execution_count": 33,
   "metadata": {},
   "outputs": [
    {
     "data": {
      "text/plain": [
       "# Summer            26\n",
       "Gold               976\n",
       "Silver             757\n",
       "Bronze             666\n",
       "Total             2399\n",
       "# Winter            22\n",
       "Gold.1              96\n",
       "Silver.1           102\n",
       "Bronze.1            84\n",
       "Total.1            282\n",
       "# Games             48\n",
       "Gold.2            1072\n",
       "Silver.2           859\n",
       "Bronze.2           750\n",
       "Combined total    2681\n",
       "ID                 USA\n",
       "Name: United States, dtype: object"
      ]
     },
     "execution_count": 33,
     "metadata": {},
     "output_type": "execute_result"
    }
   ],
   "source": [
    "#Display the data of United States (Selecting Row data as a Series Object)\n",
    "\n",
    "df.loc['United States']"
   ]
  },
  {
   "cell_type": "code",
   "execution_count": 34,
   "metadata": {},
   "outputs": [
    {
     "data": {
      "text/plain": [
       "'Afghanistan'"
      ]
     },
     "execution_count": 34,
     "metadata": {},
     "output_type": "execute_result"
    }
   ],
   "source": [
    "#Return the name of the first country in the data\n",
    "\n",
    "df.index[0]"
   ]
  },
  {
   "cell_type": "code",
   "execution_count": 37,
   "metadata": {},
   "outputs": [
    {
     "data": {
      "text/plain": [
       "'Mixed team'"
      ]
     },
     "execution_count": 37,
     "metadata": {},
     "output_type": "execute_result"
    }
   ],
   "source": [
    "#Return the last country in the data\n",
    "\n",
    "df.index[-1]"
   ]
  },
  {
   "cell_type": "code",
   "execution_count": 43,
   "metadata": {},
   "outputs": [
    {
     "data": {
      "text/plain": [
       "8"
      ]
     },
     "execution_count": 43,
     "metadata": {},
     "output_type": "execute_result"
    }
   ],
   "source": [
    "#Return the total number of games participated by the 10th country in summer olympics\n",
    "\n",
    "df['# Summer'][9]\n"
   ]
  },
  {
   "cell_type": "code",
   "execution_count": 41,
   "metadata": {},
   "outputs": [
    {
     "data": {
      "text/plain": [
       "17"
      ]
     },
     "execution_count": 41,
     "metadata": {},
     "output_type": "execute_result"
    }
   ],
   "source": [
    "#Return the total medals won by the last country\n",
    "\n",
    "df['Combined total'][-1]"
   ]
  },
  {
   "cell_type": "code",
   "execution_count": 44,
   "metadata": {},
   "outputs": [
    {
     "data": {
      "text/plain": [
       "1072"
      ]
     },
     "execution_count": 44,
     "metadata": {},
     "output_type": "execute_result"
    }
   ],
   "source": [
    "#return total number of Gold medals won by the United Staes\n",
    "\n",
    "df.loc['United States']['Gold.2']"
   ]
  },
  {
   "cell_type": "code",
   "execution_count": 45,
   "metadata": {},
   "outputs": [
    {
     "data": {
      "text/plain": [
       "775"
      ]
     },
     "execution_count": 45,
     "metadata": {},
     "output_type": "execute_result"
    }
   ],
   "source": [
    "#Difference between Summer Gold medals of United States and China\n",
    "\n",
    "abs(df.loc['United States']['Gold'] - df.loc['China']['Gold'])"
   ]
  },
  {
   "cell_type": "code",
   "execution_count": 48,
   "metadata": {},
   "outputs": [
    {
     "data": {
      "text/plain": [
       "118"
      ]
     },
     "execution_count": 48,
     "metadata": {},
     "output_type": "execute_result"
    }
   ],
   "source": [
    "#Maximum Gold Medal count in Winter Olympics\n",
    "\n",
    "df['Gold.1'].max()"
   ]
  },
  {
   "cell_type": "code",
   "execution_count": 49,
   "metadata": {},
   "outputs": [
    {
     "data": {
      "text/plain": [
       "4809"
      ]
     },
     "execution_count": 49,
     "metadata": {},
     "output_type": "execute_result"
    }
   ],
   "source": [
    "#Sum of all Gold medals in the Summer Olympics or How many types of games were played in the Summer olympics\n",
    "\n",
    "df['Gold'].sum()"
   ]
  },
  {
   "cell_type": "code",
   "execution_count": 54,
   "metadata": {},
   "outputs": [
    {
     "data": {
      "text/plain": [
       "'United States'"
      ]
     },
     "execution_count": 54,
     "metadata": {},
     "output_type": "execute_result"
    }
   ],
   "source": [
    "#Return a boolean Series object for the maximum number of gold medals in the summer olympics\n",
    "\n",
    "df[df['Gold'] == df['Gold'].max()].index[0]"
   ]
  },
  {
   "cell_type": "code",
   "execution_count": 59,
   "metadata": {},
   "outputs": [
    {
     "data": {
      "text/html": [
       "<div>\n",
       "<style scoped>\n",
       "    .dataframe tbody tr th:only-of-type {\n",
       "        vertical-align: middle;\n",
       "    }\n",
       "\n",
       "    .dataframe tbody tr th {\n",
       "        vertical-align: top;\n",
       "    }\n",
       "\n",
       "    .dataframe thead th {\n",
       "        text-align: right;\n",
       "    }\n",
       "</style>\n",
       "<table border=\"1\" class=\"dataframe\">\n",
       "  <thead>\n",
       "    <tr style=\"text-align: right;\">\n",
       "      <th></th>\n",
       "      <th># Summer</th>\n",
       "      <th>Gold</th>\n",
       "      <th>Silver</th>\n",
       "      <th>Bronze</th>\n",
       "      <th>Total</th>\n",
       "      <th># Winter</th>\n",
       "      <th>Gold.1</th>\n",
       "      <th>Silver.1</th>\n",
       "      <th>Bronze.1</th>\n",
       "      <th>Total.1</th>\n",
       "      <th># Games</th>\n",
       "      <th>Gold.2</th>\n",
       "      <th>Silver.2</th>\n",
       "      <th>Bronze.2</th>\n",
       "      <th>Combined total</th>\n",
       "      <th>ID</th>\n",
       "    </tr>\n",
       "  </thead>\n",
       "  <tbody>\n",
       "    <tr>\n",
       "      <th>United States</th>\n",
       "      <td>26</td>\n",
       "      <td>976</td>\n",
       "      <td>757</td>\n",
       "      <td>666</td>\n",
       "      <td>2399</td>\n",
       "      <td>22</td>\n",
       "      <td>96</td>\n",
       "      <td>102</td>\n",
       "      <td>84</td>\n",
       "      <td>282</td>\n",
       "      <td>48</td>\n",
       "      <td>1072</td>\n",
       "      <td>859</td>\n",
       "      <td>750</td>\n",
       "      <td>2681</td>\n",
       "      <td>USA</td>\n",
       "    </tr>\n",
       "  </tbody>\n",
       "</table>\n",
       "</div>"
      ],
      "text/plain": [
       "               # Summer  Gold  Silver  Bronze  Total  # Winter  Gold.1  \\\n",
       "United States        26   976     757     666   2399        22      96   \n",
       "\n",
       "               Silver.1  Bronze.1  Total.1  # Games  Gold.2  Silver.2  \\\n",
       "United States       102        84      282       48    1072       859   \n",
       "\n",
       "               Bronze.2  Combined total   ID  \n",
       "United States       750            2681  USA  "
      ]
     },
     "execution_count": 59,
     "metadata": {},
     "output_type": "execute_result"
    }
   ],
   "source": [
    "#Return the data of the country that got the maximum number of medals in the summer olympics\n",
    "\n",
    "df[df['Total'].max() == df['Total']]"
   ]
  },
  {
   "cell_type": "code",
   "execution_count": 60,
   "metadata": {},
   "outputs": [
    {
     "data": {
      "text/plain": [
       "'United States'"
      ]
     },
     "execution_count": 60,
     "metadata": {},
     "output_type": "execute_result"
    }
   ],
   "source": [
    "#Name the country that got maximum  medals overrall\n",
    "\n",
    "\n",
    "df[df['Combined total'].max() == df['Combined total']].index[0]"
   ]
  },
  {
   "cell_type": "code",
   "execution_count": null,
   "metadata": {},
   "outputs": [],
   "source": []
  },
  {
   "cell_type": "code",
   "execution_count": null,
   "metadata": {},
   "outputs": [],
   "source": []
  },
  {
   "cell_type": "code",
   "execution_count": null,
   "metadata": {},
   "outputs": [],
   "source": []
  },
  {
   "cell_type": "code",
   "execution_count": null,
   "metadata": {},
   "outputs": [],
   "source": []
  },
  {
   "cell_type": "code",
   "execution_count": null,
   "metadata": {},
   "outputs": [],
   "source": []
  }
 ],
 "metadata": {
  "kernelspec": {
   "display_name": "Python 3",
   "language": "python",
   "name": "python3"
  },
  "language_info": {
   "codemirror_mode": {
    "name": "ipython",
    "version": 3
   },
   "file_extension": ".py",
   "mimetype": "text/x-python",
   "name": "python",
   "nbconvert_exporter": "python",
   "pygments_lexer": "ipython3",
   "version": "3.7.3"
  }
 },
 "nbformat": 4,
 "nbformat_minor": 2
}
